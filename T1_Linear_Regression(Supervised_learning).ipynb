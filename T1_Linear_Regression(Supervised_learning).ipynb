{
  "nbformat": 4,
  "nbformat_minor": 0,
  "metadata": {
    "colab": {
      "name": "T1_Linear_Regression(Supervised learning).ipynb",
      "provenance": [],
      "collapsed_sections": [],
      "authorship_tag": "ABX9TyN8yp4chJO92cr4YrJ08A5q",
      "include_colab_link": true
    },
    "kernelspec": {
      "name": "python3",
      "display_name": "Python 3"
    },
    "language_info": {
      "name": "python"
    }
  },
  "cells": [
    {
      "cell_type": "markdown",
      "metadata": {
        "id": "view-in-github",
        "colab_type": "text"
      },
      "source": [
        "<a href=\"https://colab.research.google.com/github/rajat-chn/GRIP_May_2021/blob/main/T1_Linear_Regression(Supervised_learning).ipynb\" target=\"_parent\"><img src=\"https://colab.research.google.com/assets/colab-badge.svg\" alt=\"Open In Colab\"/></a>"
      ]
    },
    {
      "cell_type": "code",
      "metadata": {
        "id": "NZkYcWhSBf-a"
      },
      "source": [
        "# Getting the required libraries\n",
        "import pandas as pd\n",
        "import numpy as np"
      ],
      "execution_count": 1,
      "outputs": []
    },
    {
      "cell_type": "code",
      "metadata": {
        "id": "_wxSAZtmBvm-"
      },
      "source": [
        "import matplotlib.pyplot as plt\n",
        "%matplotlib inline\n"
      ],
      "execution_count": 2,
      "outputs": []
    },
    {
      "cell_type": "code",
      "metadata": {
        "id": "43i6SfyJC72x"
      },
      "source": [
        "## getting most important thing i.e fuel for the lerning engine.\n",
        "\n",
        "url=r\"https://raw.githubusercontent.com/AdiPersonalWorks/Random/master/student_scores%20-%20student_scores.csv\"\n",
        "df=pd.read_csv(url)"
      ],
      "execution_count": 3,
      "outputs": []
    },
    {
      "cell_type": "code",
      "metadata": {
        "colab": {
          "base_uri": "https://localhost:8080/"
        },
        "id": "pdm9eCTdgVCq",
        "outputId": "5437e35a-fa98-4b56-c741-b9abb506ec31"
      },
      "source": [
        "print(df)\n",
        "print(df.columns)"
      ],
      "execution_count": 4,
      "outputs": [
        {
          "output_type": "stream",
          "text": [
            "    Hours  Scores\n",
            "0     2.5      21\n",
            "1     5.1      47\n",
            "2     3.2      27\n",
            "3     8.5      75\n",
            "4     3.5      30\n",
            "5     1.5      20\n",
            "6     9.2      88\n",
            "7     5.5      60\n",
            "8     8.3      81\n",
            "9     2.7      25\n",
            "10    7.7      85\n",
            "11    5.9      62\n",
            "12    4.5      41\n",
            "13    3.3      42\n",
            "14    1.1      17\n",
            "15    8.9      95\n",
            "16    2.5      30\n",
            "17    1.9      24\n",
            "18    6.1      67\n",
            "19    7.4      69\n",
            "20    2.7      30\n",
            "21    4.8      54\n",
            "22    3.8      35\n",
            "23    6.9      76\n",
            "24    7.8      86\n",
            "Index(['Hours', 'Scores'], dtype='object')\n"
          ],
          "name": "stdout"
        }
      ]
    },
    {
      "cell_type": "code",
      "metadata": {
        "colab": {
          "base_uri": "https://localhost:8080/",
          "height": 313
        },
        "id": "lOpem4__gesS",
        "outputId": "88bab80a-96b1-4d8d-8bac-e7277f4335c4"
      },
      "source": [
        "plt.scatter(df['Hours'],df['Scores'])\n",
        "plt.title(\"Scores Vs Hours\")\n",
        "plt.xlabel(\"Hours\")\n",
        "plt.ylabel(\"Scores\")"
      ],
      "execution_count": 5,
      "outputs": [
        {
          "output_type": "execute_result",
          "data": {
            "text/plain": [
              "Text(0, 0.5, 'Scores')"
            ]
          },
          "metadata": {
            "tags": []
          },
          "execution_count": 5
        },
        {
          "output_type": "display_data",
          "data": {
            "image/png": "[encoded data removed]",
            "text/plain": [
              "<Figure size 432x288 with 1 Axes>"
            ]
          },
          "metadata": {
            "tags": [],
            "needs_background": "light"
          }
        }
      ]
    },
    {
      "cell_type": "code",
      "metadata": {
        "id": "RzM6s_B-hAmp"
      },
      "source": [
        "## importing required libraries for pridiction model\n",
        "from sklearn.linear_model import LinearRegression as lr\n",
        "from sklearn.model_selection import train_test_split as tts\n",
        "from sklearn import metrics"
      ],
      "execution_count": 6,
      "outputs": []
    },
    {
      "cell_type": "code",
      "metadata": {
        "id": "dN73vOOMkQMR"
      },
      "source": [
        "x=df.iloc[:,:-1].values\n",
        "y=df.iloc[:,1].values"
      ],
      "execution_count": 7,
      "outputs": []
    },
    {
      "cell_type": "code",
      "metadata": {
        "id": "1WZc0yfltSiL"
      },
      "source": [
        "##Train test split\n",
        "\n",
        "x_train,x_test,y_train,y_test=tts(x,y,test_size=0.25,random_state=0)"
      ],
      "execution_count": 8,
      "outputs": []
    },
    {
      "cell_type": "code",
      "metadata": {
        "colab": {
          "base_uri": "https://localhost:8080/"
        },
        "id": "_FkvLGLRtTvs",
        "outputId": "3408837b-687d-418f-e214-bce24c4750c3"
      },
      "source": [
        "## Training the model\n",
        "\n",
        "rgr = lr()\n",
        "rgr.fit(x_train,y_train)\n"
      ],
      "execution_count": 9,
      "outputs": [
        {
          "output_type": "execute_result",
          "data": {
            "text/plain": [
              "LinearRegression(copy_X=True, fit_intercept=True, n_jobs=None, normalize=False)"
            ]
          },
          "metadata": {
            "tags": []
          },
          "execution_count": 9
        }
      ]
    },
    {
      "cell_type": "code",
      "metadata": {
        "id": "NwnRNEd2uPHZ",
        "colab": {
          "base_uri": "https://localhost:8080/",
          "height": 295
        },
        "outputId": "08c8bb22-d81e-40d9-fc3b-87019da05bf3"
      },
      "source": [
        "plt.scatter(df['Hours'],df['Scores'])\n",
        "plt.title(\"Scores Vs Hours\")\n",
        "plt.xlabel(\"Hours\")\n",
        "plt.ylabel(\"Scores\")\n",
        "\n",
        "plt.plot(x,rgr.predict(x))\n",
        "plt.show()"
      ],
      "execution_count": 10,
      "outputs": [
        {
          "output_type": "display_data",
          "data": {
            "image/png": "[encoded data removed]",
            "text/plain": [
              "<Figure size 432x288 with 1 Axes>"
            ]
          },
          "metadata": {
            "tags": [],
            "needs_background": "light"
          }
        }
      ]
    },
    {
      "cell_type": "code",
      "metadata": {
        "colab": {
          "base_uri": "https://localhost:8080/"
        },
        "id": "h_5zbgD_0GKx",
        "outputId": "eeb656ff-f8c4-4bb2-ef66-dfb4445736ad"
      },
      "source": [
        "## Pridicting the values\n",
        "y_pred=rgr.predict(x_test)\n",
        "print(\"Real Value\\tPredicted Value\")\n",
        "for i,j in zip(y_test,y_pred):\n",
        "  print(i,\"\\t\\t\",j)"
      ],
      "execution_count": 11,
      "outputs": [
        {
          "output_type": "stream",
          "text": [
            "Real Value\tPredicted Value\n",
            "20 \t\t 16.844721762383802\n",
            "27 \t\t 33.74557493951356\n",
            "69 \t\t 75.50062396536356\n",
            "30 \t\t 26.786400101871894\n",
            "62 \t\t 60.58810645613142\n",
            "35 \t\t 39.710581943206414\n",
            "24 \t\t 20.821393098179037\n"
          ],
          "name": "stdout"
        }
      ]
    },
    {
      "cell_type": "code",
      "metadata": {
        "colab": {
          "base_uri": "https://localhost:8080/"
        },
        "id": "kEWLRI-b0y5f",
        "outputId": "fb1b740d-f4b8-4e23-f99b-ae2dcc0fcaca"
      },
      "source": [
        "## Model Evaluation\n",
        "\n",
        "print('Mean Absolute Error:', \n",
        "      metrics.mean_absolute_error(y_test, y_pred))"
      ],
      "execution_count": 12,
      "outputs": [
        {
          "output_type": "stream",
          "text": [
            "Mean Absolute Error: 4.130879918502482\n"
          ],
          "name": "stdout"
        }
      ]
    },
    {
      "cell_type": "code",
      "metadata": {
        "id": "DhJ6CcTq2fyM"
      },
      "source": [
        "## Getting least Mean absolute Error by brute force method\n",
        "mme=10\n",
        "ts=0\n",
        "rs=0\n",
        "for i in range(1,101,1):\n",
        "  c=0\n",
        "  for j in range(0,101):\n",
        "    try:\n",
        "      x_train,x_test,y_train,y_test=tts(x,y,test_size=i/100,random_state=j)\n",
        "      rgr = lr()\n",
        "      rgr.fit(x_train,y_train)\n",
        "      y_pred=rgr.predict(x_test)\n",
        "      c=metrics.mean_absolute_error(y_test, y_pred)\n",
        "      if c<=mme:\n",
        "        ts=i\n",
        "        rs=j\n",
        "        mme=c\n",
        "    except:\n",
        "      pass\n",
        "  \n",
        "  "
      ],
      "execution_count": 13,
      "outputs": []
    },
    {
      "cell_type": "code",
      "metadata": {
        "colab": {
          "base_uri": "https://localhost:8080/"
        },
        "id": "1k3KgfprYfCX",
        "outputId": "b102431a-a622-4ffe-dc0a-37fb1f5393f4"
      },
      "source": [
        "x_train,x_test,y_train,y_test=tts(x,y,test_size=ts/100,random_state=rs)\n",
        "rgr = lr()\n",
        "rgr.fit(x_train,y_train)\n",
        "y_pred=rgr.predict(x_test)\n",
        "c=metrics.mean_absolute_error(y_test, y_pred)\n",
        "print(\"minimum Mean Absolute Error\",c)"
      ],
      "execution_count": 14,
      "outputs": [
        {
          "output_type": "stream",
          "text": [
            "minimum Mean Absolute Error 1.2125120090420936\n"
          ],
          "name": "stdout"
        }
      ]
    },
    {
      "cell_type": "code",
      "metadata": {
        "id": "g1h_dElXZSuI"
      },
      "source": [
        ""
      ],
      "execution_count": 14,
      "outputs": []
    }
  ]
}